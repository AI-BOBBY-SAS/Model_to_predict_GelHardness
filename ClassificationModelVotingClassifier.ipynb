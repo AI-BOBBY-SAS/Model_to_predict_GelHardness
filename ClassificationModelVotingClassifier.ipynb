{
 "cells": [
  {
   "cell_type": "code",
   "execution_count": 1,
   "metadata": {},
   "outputs": [],
   "source": [
    "from sklearn.preprocessing import StandardScaler\n",
    "from tqdm import tqdm\n",
    "from sklearn.impute import SimpleImputer\n",
    "from sklearn.compose import ColumnTransformer\n",
    "from sklearn.pipeline import Pipeline\n",
    "import pandas as pd\n",
    "import numpy as np\n",
    "import lightgbm as lgbww"
   ]
  },
  {
   "cell_type": "markdown",
   "metadata": {},
   "source": [
    "## 1 - Prepare data"
   ]
  },
  {
   "cell_type": "code",
   "execution_count": 25,
   "metadata": {},
   "outputs": [
    {
     "name": "stdout",
     "output_type": "stream",
     "text": [
      "<class 'pandas.core.frame.DataFrame'>\n",
      "RangeIndex: 1005 entries, 0 to 1004\n",
      "Data columns (total 12 columns):\n",
      " #   Column                                        Non-Null Count  Dtype  \n",
      "---  ------                                        --------------  -----  \n",
      " 0   Protein codes                                 1005 non-null   object \n",
      " 1   Protein Concentration (%)                     1005 non-null   float64\n",
      " 2   Treatment code                                1005 non-null   object \n",
      " 3   Additives                                     1005 non-null   object \n",
      " 4   Additives Concentration (%)                   568 non-null    float64\n",
      " 5   pH                                            863 non-null    float64\n",
      " 6   Type of salt                                  1005 non-null   object \n",
      " 7   ionic strength (M)                            479 non-null    float64\n",
      " 8   Heating temperature (°C) for gel preparation  867 non-null    float64\n",
      " 9   Heating/hold time (min)                       867 non-null    float64\n",
      " 10  Samples stored (°C)                           906 non-null    float64\n",
      " 11  Hardness/firmness/strength (g)                1005 non-null   float64\n",
      "dtypes: float64(8), object(4)\n",
      "memory usage: 94.3+ KB\n"
     ]
    }
   ],
   "source": [
    "# 1)\n",
    "# Get data\n",
    "df = pd.read_csv(\n",
    "    r'C:\\Users\\harri\\ai_bobby_repository\\data\\raw\\gelation_hardness_dec_2024.csv',\n",
    "    dtype={\n",
    "        'Treatment code': object,\n",
    "        'Protein codes': object,\n",
    "        'Type of salt': object,\n",
    "        'Additives': object,\n",
    "    }\n",
    ")\n",
    "\n",
    "# Get only rows with gel formation\n",
    "#df = df[df['If a gel can be formed (0-1)'] == 1]\n",
    "\n",
    "\n",
    "# Define categorical columns\n",
    "categorical_columns = ['Protein codes', 'Type of salt', 'Additives', 'Treatment code']\n",
    "\n",
    "# Define numeric columns\n",
    "numerical_columns = [\n",
    "    'Samples stored (°C)',\n",
    "    'ionic strength (M)',\n",
    "    'Additives Concentration (%)',\n",
    "    'Protein Concentration (%)',\n",
    "    'pH',\n",
    "    'Heating temperature (°C) for gel preparation',\n",
    "    'Heating/hold time (min)',\n",
    "    'Hardness/firmness/strength (g)'\n",
    "]\n",
    "\n",
    "# Convert object columns to categorical\n",
    "for col in categorical_columns:\n",
    "    df[col] = df[col].astype('str')\n",
    "\n",
    "# Convert columns to numeric\n",
    "for col in numerical_columns:\n",
    "    df[col] = df[col].astype('float64')\n",
    "\n",
    "# Columns to drop\n",
    "columns_to_drop = [\n",
    "    'Citation',\n",
    "    'Citation Link',\n",
    "    'Protein',\n",
    "    'Treatment condition code',\n",
    "    'Treatment condition value',\n",
    "    'Treatment temperature ( °C)',\n",
    "    'Treatment time (min)',\n",
    "    'Storage time (h)',\n",
    "    'If a gel can be formed (0-1)',\n",
    "]\n",
    "\n",
    "# Drop columns\n",
    "df_clean = df.drop(columns=columns_to_drop, axis=1)\n",
    "\n",
    "# Drop rows with missing target values\n",
    "df_clean = df_clean.dropna(subset=['Hardness/firmness/strength (g)'])\n",
    "\n",
    "df_clean.info()"
   ]
  },
  {
   "cell_type": "code",
   "execution_count": null,
   "metadata": {},
   "outputs": [
    {
     "name": "stdout",
     "output_type": "stream",
     "text": [
      "Colonnes disponibles : ['Citation', 'Citation Link', 'Protein', 'Protein codes', 'Protein Concentration (%)', 'Treatment code', 'Treatment condition code', 'Treatment condition value', 'Treatment temperature ( °C)', 'Treatment time (min)', 'Additives', 'Additives Concentration (%)', 'pH', 'Type of salt', 'ionic strength (M)', 'Heating temperature (°C) for gel preparation', 'Heating/hold time (min)', 'Samples stored (°C)', 'Storage time (h)', 'If a gel can be formed (0-1)', 'Hardness/firmness/strength (g)', 'Unnamed: 21']\n",
      "Valeurs manquantes par colonne : Samples stored (°C)                             105\n",
      "ionic strength (M)                              515\n",
      "Additives Concentration (%)                     412\n",
      "Protein Concentration (%)                         0\n",
      "pH                                              207\n",
      "Heating temperature (°C) for gel preparation    169\n",
      "Heating/hold time (min)                         169\n",
      "Hardness/firmness/strength (g)                    0\n",
      "dtype: int64\n",
      "<class 'pandas.core.frame.DataFrame'>\n",
      "RangeIndex: 1074 entries, 0 to 1073\n",
      "Data columns (total 13 columns):\n",
      " #   Column                                        Non-Null Count  Dtype  \n",
      "---  ------                                        --------------  -----  \n",
      " 0   Protein codes                                 1074 non-null   object \n",
      " 1   Protein Concentration (%)                     1074 non-null   float64\n",
      " 2   Treatment code                                1074 non-null   object \n",
      " 3   Additives                                     1074 non-null   object \n",
      " 4   Additives Concentration (%)                   662 non-null    float64\n",
      " 5   pH                                            867 non-null    float64\n",
      " 6   Type of salt                                  1074 non-null   object \n",
      " 7   ionic strength (M)                            559 non-null    float64\n",
      " 8   Heating temperature (°C) for gel preparation  905 non-null    float64\n",
      " 9   Heating/hold time (min)                       905 non-null    float64\n",
      " 10  Samples stored (°C)                           969 non-null    float64\n",
      " 11  Hardness/firmness/strength (g)                1074 non-null   float64\n",
      " 12  Unnamed: 21                                   4 non-null      object \n",
      "dtypes: float64(8), object(5)\n",
      "memory usage: 109.2+ KB\n"
     ]
    }
   ],
   "source": [
    "# 2)\n",
    "# Charger les données\n",
    "df = pd.read_csv(\n",
    "    r\"C:\\Users\\harri\\Downloads\\Hardness.csv\", sep=';',\n",
    "    dtype={\n",
    "        'Treatment code': object,\n",
    "        'Protein codes': object,\n",
    "        'Type of salt': object,\n",
    "    }\n",
    ")\n",
    "\n",
    "# Nettoyer les noms de colonnes (supprimer espaces, caractères invisibles)\n",
    "df.columns = df.columns.str.strip()\n",
    "\n",
    "# Afficher la liste des colonnes pour vérifier leur existence\n",
    "print(\"Colonnes disponibles :\", df.columns.tolist())\n",
    "\n",
    "# Définir les colonnes catégoriques\n",
    "categorical_columns = ['Protein codes', 'Type of salt', 'Additives', 'Treatment code']\n",
    "\n",
    "# Définir les colonnes numériques\n",
    "numerical_columns = [\n",
    "    'Samples stored (°C)',\n",
    "    'ionic strength (M)',\n",
    "    'Additives Concentration (%)',\n",
    "    'Protein Concentration (%)',\n",
    "    'pH',\n",
    "    'Heating temperature (°C) for gel preparation',\n",
    "    'Heating/hold time (min)',\n",
    "    'Hardness/firmness/strength (g)',\n",
    "]\n",
    "\n",
    "# Convertir les colonnes catégoriques en chaînes de caractères\n",
    "for col in categorical_columns:\n",
    "    if col in df.columns:\n",
    "        df[col] = df[col].astype('str')\n",
    "    else:\n",
    "        print(f\"Attention : La colonne '{col}' est absente du DataFrame.\")\n",
    "\n",
    "# Remplacer les virgules par des points et convertir les colonnes numériques en float\n",
    "for col in numerical_columns:\n",
    "    if col in df.columns:\n",
    "        df[col] = pd.to_numeric(df[col].replace(',', '.', regex=True), errors='coerce')\n",
    "    else:\n",
    "        print(f\"Attention : La colonne '{col}' est absente du DataFrame.\")\n",
    "\n",
    "# Vérifier si certaines colonnes contiennent encore des valeurs manquantes après conversion\n",
    "missing_values = df[numerical_columns].isna().sum()\n",
    "print(\"Valeurs manquantes par colonne :\", missing_values)\n",
    "\n",
    "# Colonnes à supprimer\n",
    "columns_to_drop = [\n",
    "    'Citation',\n",
    "    'Citation Link',\n",
    "    'Protein',\n",
    "    'Treatment condition code',\n",
    "    'Treatment condition value',\n",
    "    'Treatment temperature ( °C)',\n",
    "    'Treatment time (min)',\n",
    "    'Storage time (h)',\n",
    "    'If a gel can be formed (0-1)',\n",
    "]\n",
    "\n",
    "# Supprimer les colonnes si elles existent\n",
    "columns_to_drop = [col for col in columns_to_drop if col in df.columns]\n",
    "df_clean_copy = df.drop(columns=columns_to_drop, axis=1)\n",
    "\n",
    "# Supprimer les lignes avec des valeurs cibles manquantes\n",
    "df_clean_copy = df_clean_copy.dropna(subset=['Hardness/firmness/strength (g)'])\n",
    "\n",
    "# Afficher un aperçu des données finales\n",
    "df_clean_copy.info()"
   ]
  },
  {
   "cell_type": "code",
   "execution_count": 44,
   "metadata": {},
   "outputs": [
    {
     "data": {
      "text/plain": [
       "(1074, 13)"
      ]
     },
     "execution_count": 44,
     "metadata": {},
     "output_type": "execute_result"
    }
   ],
   "source": [
    "# 1075 entrées pour le GelHardness\n",
    "df_clean_copy.shape"
   ]
  },
  {
   "cell_type": "markdown",
   "metadata": {},
   "source": [
    "### Transform target variable\n",
    "- Soft gel = 0 to 1000 grams (upto 10 Newtons)\n",
    "- Firm gel = 1000 to 5000 grams (50 Newtons)\n",
    "- Rigid gel/stable gel = 5000 to- 1,000,000 grams (upto 200 Newtons)\n"
   ]
  },
  {
   "cell_type": "code",
   "execution_count": 46,
   "metadata": {},
   "outputs": [
    {
     "name": "stdout",
     "output_type": "stream",
     "text": [
      "Protein codes                                    object\n",
      "Protein Concentration (%)                       float64\n",
      "Treatment code                                   object\n",
      "Additives                                        object\n",
      "Additives Concentration (%)                     float64\n",
      "pH                                              float64\n",
      "Type of salt                                     object\n",
      "ionic strength (M)                              float64\n",
      "Heating temperature (°C) for gel preparation    float64\n",
      "Heating/hold time (min)                         float64\n",
      "Samples stored (°C)                             float64\n",
      "Hardness/firmness/strength (g)                  float64\n",
      "dtype: object\n"
     ]
    }
   ],
   "source": [
    "import pandas as pd\n",
    "import numpy as np\n",
    "from sklearn.impute import SimpleImputer\n",
    "from sklearn.preprocessing import StandardScaler\n",
    "from sklearn.compose import ColumnTransformer\n",
    "from sklearn.pipeline import Pipeline\n",
    "\n",
    "# Suppression des colonnes inutiles comme 'Unnamed: 21'\n",
    "df_clean_copy = df_clean_copy.drop(columns=['Unnamed: 21'], errors='ignore')\n",
    "\n",
    "# Sélectionner les colonnes numériques et catégorielles\n",
    "numerical_cols = df_clean_copy.select_dtypes(include=np.number).columns\n",
    "categorical_cols = df_clean_copy.select_dtypes(include=['object']).columns\n",
    "\n",
    "# Nettoyage des données avant l'entraînement\n",
    "df_clean_copy = df_clean_copy.copy()\n",
    "\n",
    "# Remplacer les espaces vides par NaN dans les colonnes catégorielles\n",
    "df_clean_copy[categorical_cols] = df_clean_copy[categorical_cols].replace(' ', np.nan)\n",
    "\n",
    "# Remplacer les virgules par des points et nettoyer les caractères non numériques dans les colonnes numériques\n",
    "for col in numerical_cols:\n",
    "    # Remplacer les virgules par des points\n",
    "    df_clean_copy[col] = df_clean_copy[col].replace({',': '.'}, regex=True)\n",
    "    # Supprimer les caractères non numériques (en dehors des points décimaux)\n",
    "    df_clean_copy[col] = df_clean_copy[col].replace(r'[^0-9.-]', '', regex=True)\n",
    "\n",
    "# Convertir les colonnes numériques en type float64, gérer les erreurs de conversion\n",
    "df_clean_copy[numerical_cols] = df_clean_copy[numerical_cols].apply(pd.to_numeric, errors='coerce')\n",
    "\n",
    "# Imputation des valeurs manquantes pour les colonnes numériques avec la médiane\n",
    "imputer_num = SimpleImputer(strategy='median')\n",
    "df_clean_copy[numerical_cols] = imputer_num.fit_transform(df_clean_copy[numerical_cols])\n",
    "\n",
    "# Imputation des valeurs manquantes pour les colonnes catégorielles avec la modalité la plus fréquente\n",
    "imputer_cat = SimpleImputer(strategy='most_frequent')\n",
    "df_clean_copy[categorical_cols] = imputer_cat.fit_transform(df_clean_copy[categorical_cols])\n",
    "\n",
    "# Vérification des types après nettoyage\n",
    "print(df_clean_copy.dtypes)\n",
    "\n",
    "# Préparation du pipeline avec prétraitement\n",
    "preprocessor = ColumnTransformer(\n",
    "    transformers=[\n",
    "        ('num', SimpleImputer(strategy='median'), numerical_cols),  # Imputation numérique\n",
    "        ('cat', SimpleImputer(strategy='most_frequent'), categorical_cols)  # Imputation catégorielle\n",
    "    ])\n",
    "\n",
    "# Exemple d'utilisation d'un pipeline avec prétraitement\n",
    "pipeline = Pipeline(steps=[\n",
    "    ('preprocessor', preprocessor),\n",
    "    ('scaler', StandardScaler())  # Ajoutez ici le modèle ou d'autres étapes selon le cas\n",
    "])\n",
    "\n",
    "# Appliquer le pipeline sur les données nettoyées\n",
    "X_processed = pipeline.fit_transform(df_clean_copy)\n"
   ]
  },
  {
   "cell_type": "code",
   "execution_count": 47,
   "metadata": {},
   "outputs": [],
   "source": [
    "def categorize_gel_strength(dataframe: pd.DataFrame, column_name: str) -> pd.DataFrame:\n",
    "    \"\"\"\n",
    "    Categorizes a continuous column into gel strength categories.\n",
    "\n",
    "    Parameters:\n",
    "    dataframe (pd.DataFrame): Input DataFrame.\n",
    "    column_name (str): Name of the column to be transformed.\n",
    "\n",
    "    Returns:\n",
    "    pd.DataFrame: DataFrame with a new column `<column_name>_category` containing the categories.\n",
    "    \"\"\"\n",
    "    # Define the bins and labels\n",
    "    bins = [0, 1000, 5000, 1000000]\n",
    "    labels = [0, 1, 2] # Soft, Firm, Rigid\n",
    "\n",
    "    # Create a new column for the categories\n",
    "    category_column_name = f\"{column_name}_category\"\n",
    "    dataframe[category_column_name] = pd.cut(\n",
    "        dataframe[column_name], bins=bins, labels=labels, include_lowest=True\n",
    "    )\n",
    "\n",
    "    return dataframe"
   ]
  },
  {
   "cell_type": "code",
   "execution_count": 48,
   "metadata": {},
   "outputs": [
    {
     "data": {
      "text/html": [
       "<div>\n",
       "<style scoped>\n",
       "    .dataframe tbody tr th:only-of-type {\n",
       "        vertical-align: middle;\n",
       "    }\n",
       "\n",
       "    .dataframe tbody tr th {\n",
       "        vertical-align: top;\n",
       "    }\n",
       "\n",
       "    .dataframe thead th {\n",
       "        text-align: right;\n",
       "    }\n",
       "</style>\n",
       "<table border=\"1\" class=\"dataframe\">\n",
       "  <thead>\n",
       "    <tr style=\"text-align: right;\">\n",
       "      <th></th>\n",
       "      <th>Protein codes</th>\n",
       "      <th>Protein Concentration (%)</th>\n",
       "      <th>Treatment code</th>\n",
       "      <th>Additives</th>\n",
       "      <th>Additives Concentration (%)</th>\n",
       "      <th>pH</th>\n",
       "      <th>Type of salt</th>\n",
       "      <th>ionic strength (M)</th>\n",
       "      <th>Heating temperature (°C) for gel preparation</th>\n",
       "      <th>Heating/hold time (min)</th>\n",
       "      <th>Samples stored (°C)</th>\n",
       "      <th>Hardness/firmness/strength (g)</th>\n",
       "      <th>Hardness/firmness/strength (g)_category</th>\n",
       "    </tr>\n",
       "  </thead>\n",
       "  <tbody>\n",
       "    <tr>\n",
       "      <th>0</th>\n",
       "      <td>10501</td>\n",
       "      <td>12.0</td>\n",
       "      <td>nan</td>\n",
       "      <td>nan</td>\n",
       "      <td>0.6</td>\n",
       "      <td>5.0</td>\n",
       "      <td>nan</td>\n",
       "      <td>0.03</td>\n",
       "      <td>90.0</td>\n",
       "      <td>30.0</td>\n",
       "      <td>4.0</td>\n",
       "      <td>131.91</td>\n",
       "      <td>0</td>\n",
       "    </tr>\n",
       "    <tr>\n",
       "      <th>1</th>\n",
       "      <td>10501</td>\n",
       "      <td>12.0</td>\n",
       "      <td>nan</td>\n",
       "      <td>80203</td>\n",
       "      <td>0.5</td>\n",
       "      <td>5.0</td>\n",
       "      <td>nan</td>\n",
       "      <td>0.03</td>\n",
       "      <td>90.0</td>\n",
       "      <td>30.0</td>\n",
       "      <td>4.0</td>\n",
       "      <td>155.91</td>\n",
       "      <td>0</td>\n",
       "    </tr>\n",
       "    <tr>\n",
       "      <th>2</th>\n",
       "      <td>10501</td>\n",
       "      <td>12.0</td>\n",
       "      <td>nan</td>\n",
       "      <td>80203</td>\n",
       "      <td>1.0</td>\n",
       "      <td>5.0</td>\n",
       "      <td>nan</td>\n",
       "      <td>0.03</td>\n",
       "      <td>90.0</td>\n",
       "      <td>30.0</td>\n",
       "      <td>4.0</td>\n",
       "      <td>151.14</td>\n",
       "      <td>0</td>\n",
       "    </tr>\n",
       "    <tr>\n",
       "      <th>3</th>\n",
       "      <td>10501</td>\n",
       "      <td>12.0</td>\n",
       "      <td>nan</td>\n",
       "      <td>80203</td>\n",
       "      <td>2.0</td>\n",
       "      <td>5.0</td>\n",
       "      <td>nan</td>\n",
       "      <td>0.03</td>\n",
       "      <td>90.0</td>\n",
       "      <td>30.0</td>\n",
       "      <td>4.0</td>\n",
       "      <td>144.84</td>\n",
       "      <td>0</td>\n",
       "    </tr>\n",
       "    <tr>\n",
       "      <th>4</th>\n",
       "      <td>10501</td>\n",
       "      <td>12.0</td>\n",
       "      <td>nan</td>\n",
       "      <td>nan</td>\n",
       "      <td>0.6</td>\n",
       "      <td>6.0</td>\n",
       "      <td>nan</td>\n",
       "      <td>0.03</td>\n",
       "      <td>90.0</td>\n",
       "      <td>30.0</td>\n",
       "      <td>4.0</td>\n",
       "      <td>95.71</td>\n",
       "      <td>0</td>\n",
       "    </tr>\n",
       "  </tbody>\n",
       "</table>\n",
       "</div>"
      ],
      "text/plain": [
       "  Protein codes  Protein Concentration (%) Treatment code Additives  \\\n",
       "0         10501                       12.0            nan       nan   \n",
       "1         10501                       12.0            nan     80203   \n",
       "2         10501                       12.0            nan     80203   \n",
       "3         10501                       12.0            nan     80203   \n",
       "4         10501                       12.0            nan       nan   \n",
       "\n",
       "   Additives Concentration (%)   pH Type of salt  ionic strength (M)  \\\n",
       "0                          0.6  5.0          nan                0.03   \n",
       "1                          0.5  5.0          nan                0.03   \n",
       "2                          1.0  5.0          nan                0.03   \n",
       "3                          2.0  5.0          nan                0.03   \n",
       "4                          0.6  6.0          nan                0.03   \n",
       "\n",
       "   Heating temperature (°C) for gel preparation  Heating/hold time (min)  \\\n",
       "0                                          90.0                     30.0   \n",
       "1                                          90.0                     30.0   \n",
       "2                                          90.0                     30.0   \n",
       "3                                          90.0                     30.0   \n",
       "4                                          90.0                     30.0   \n",
       "\n",
       "   Samples stored (°C)  Hardness/firmness/strength (g)  \\\n",
       "0                  4.0                          131.91   \n",
       "1                  4.0                          155.91   \n",
       "2                  4.0                          151.14   \n",
       "3                  4.0                          144.84   \n",
       "4                  4.0                           95.71   \n",
       "\n",
       "  Hardness/firmness/strength (g)_category  \n",
       "0                                       0  \n",
       "1                                       0  \n",
       "2                                       0  \n",
       "3                                       0  \n",
       "4                                       0  "
      ]
     },
     "execution_count": 48,
     "metadata": {},
     "output_type": "execute_result"
    }
   ],
   "source": [
    "df_clean_copy = categorize_gel_strength(df_clean_copy, 'Hardness/firmness/strength (g)')\n",
    "df_clean_copy.head()"
   ]
  },
  {
   "cell_type": "code",
   "execution_count": 49,
   "metadata": {},
   "outputs": [],
   "source": [
    "df_clean_copy.drop(columns=['Hardness/firmness/strength (g)'], inplace=True)"
   ]
  },
  {
   "cell_type": "code",
   "execution_count": 50,
   "metadata": {},
   "outputs": [],
   "source": [
    "from sklearn.model_selection import KFold\n",
    "from sklearn.metrics import accuracy_score, precision_score, recall_score, f1_score\n",
    "\n",
    "def train_and_evaluate_model(X, y, k=5, model=Pipeline(steps=[]), \n",
    "                            metrics_list=[accuracy_score, precision_score, recall_score, f1_score], \n",
    "                            numerical_cols=None, categorical_cols=None):\n",
    "  \"\"\"\n",
    "  Trains and evaluates a classification model using K-fold cross-validation.\n",
    "\n",
    "  Args:\n",
    "    X: The feature matrix.\n",
    "    y: The target variable.\n",
    "    k: The number of folds for cross-validation.\n",
    "    model: The classification model to use (must be a Pipeline if preprocessing is needed).\n",
    "    metrics_list: A list of metric functions to evaluate the model.\n",
    "    numerical_cols: List of numerical column names (needed for preprocessing).\n",
    "    categorical_cols: List of categorical column names (needed for preprocessing).\n",
    "\n",
    "  Returns:\n",
    "    A dictionary of evaluation results for each fold and the average across all folds.\n",
    "  \"\"\"\n",
    "\n",
    "  kf = KFold(n_splits=k, shuffle=True, random_state=42)\n",
    "  results = []\n",
    "\n",
    "  for _, (train_index, test_index) in enumerate(kf.split(X)):\n",
    "    X_train, X_test = X[train_index], X[test_index]\n",
    "    y_train, y_test = y[train_index], y[test_index]\n",
    "\n",
    "    X_train_df = pd.DataFrame(X_train, columns=numerical_cols.tolist() + categorical_cols.tolist())\n",
    "    X_test_df = pd.DataFrame(X_test, columns=numerical_cols.tolist() + categorical_cols.tolist())\n",
    "    model.fit(X_train_df, y_train)  # Fit with DataFrame\n",
    "    y_pred = model.predict(X_test_df)  # Predict with DataFrame\n",
    "\n",
    "    fold_results = {}\n",
    "    for metric in metrics_list:\n",
    "      metric_name = metric.__name__\n",
    "      if metric_name in ['precision_score', 'recall_score', 'f1_score']:\n",
    "        fold_results[metric_name] = metric(y_test.codes, y_pred, average='weighted')\n",
    "      else:\n",
    "        fold_results[metric_name] = metric(y_test.codes, y_pred)\n",
    "    results.append(fold_results)\n",
    "\n",
    "  # Calculate average results across all folds\n",
    "  avg_results = {}\n",
    "  for metric_name in results[0].keys():\n",
    "    avg_results[metric_name] = np.mean([fold[metric_name] for fold in results])\n",
    "\n",
    "  return avg_results"
   ]
  },
  {
   "cell_type": "code",
   "execution_count": 51,
   "metadata": {},
   "outputs": [
    {
     "data": {
      "text/plain": [
       "Hardness/firmness/strength (g)_category\n",
       "0    929\n",
       "1     95\n",
       "2     50\n",
       "Name: count, dtype: int64"
      ]
     },
     "execution_count": 51,
     "metadata": {},
     "output_type": "execute_result"
    }
   ],
   "source": [
    "df_clean_copy['Hardness/firmness/strength (g)_category'].value_counts()"
   ]
  },
  {
   "cell_type": "code",
   "execution_count": 52,
   "metadata": {},
   "outputs": [
    {
     "name": "stdout",
     "output_type": "stream",
     "text": [
      "<class 'pandas.core.frame.DataFrame'>\n",
      "RangeIndex: 1074 entries, 0 to 1073\n",
      "Data columns (total 12 columns):\n",
      " #   Column                                        Non-Null Count  Dtype   \n",
      "---  ------                                        --------------  -----   \n",
      " 0   Protein codes                                 1074 non-null   object  \n",
      " 1   Protein Concentration (%)                     1074 non-null   float64 \n",
      " 2   Treatment code                                1074 non-null   object  \n",
      " 3   Additives                                     1074 non-null   object  \n",
      " 4   Additives Concentration (%)                   1074 non-null   float64 \n",
      " 5   pH                                            1074 non-null   float64 \n",
      " 6   Type of salt                                  1074 non-null   object  \n",
      " 7   ionic strength (M)                            1074 non-null   float64 \n",
      " 8   Heating temperature (°C) for gel preparation  1074 non-null   float64 \n",
      " 9   Heating/hold time (min)                       1074 non-null   float64 \n",
      " 10  Samples stored (°C)                           1074 non-null   float64 \n",
      " 11  Hardness/firmness/strength (g)_category       1074 non-null   category\n",
      "dtypes: category(1), float64(7), object(4)\n",
      "memory usage: 93.6+ KB\n"
     ]
    }
   ],
   "source": [
    "df_clean_copy.info()"
   ]
  },
  {
   "cell_type": "code",
   "execution_count": 53,
   "metadata": {},
   "outputs": [],
   "source": [
    "X = df_clean_copy.drop('Hardness/firmness/strength (g)_category', axis=1)\n",
    "y = df_clean_copy['Hardness/firmness/strength (g)_category']\n",
    "\n",
    "numerical_cols = X.select_dtypes(include=np.number).columns\n",
    "categorical_cols = X.select_dtypes(include=['object']).columns\n",
    "numerical_transformer = Pipeline(steps=[\n",
    "    ('imputer', SimpleImputer(strategy='median')),\n",
    "    ('scaler', StandardScaler())\n",
    "])\n",
    "categorical_transformer = SimpleImputer(strategy='most_frequent')\n",
    "\n",
    "preprocessor = ColumnTransformer(\n",
    "    transformers=[\n",
    "        ('num', numerical_transformer, numerical_cols),\n",
    "        ('cat', categorical_transformer, categorical_cols),\n",
    "    ])"
   ]
  },
  {
   "cell_type": "markdown",
   "metadata": {},
   "source": [
    "## 2 - Train models"
   ]
  },
  {
   "cell_type": "code",
   "execution_count": 54,
   "metadata": {},
   "outputs": [
    {
     "name": "stderr",
     "output_type": "stream",
     "text": [
      "  0%|          | 0/5 [00:00<?, ?it/s]"
     ]
    },
    {
     "name": "stdout",
     "output_type": "stream",
     "text": [
      "Training Dummy Classifier...\n",
      "Training Logistic Regression...\n"
     ]
    },
    {
     "name": "stderr",
     "output_type": "stream",
     "text": [
      " 60%|██████    | 3/5 [00:00<00:00,  7.38it/s]"
     ]
    },
    {
     "name": "stdout",
     "output_type": "stream",
     "text": [
      "Training Decision Tree...\n",
      "Training Random Forest...\n"
     ]
    },
    {
     "name": "stderr",
     "output_type": "stream",
     "text": [
      " 80%|████████  | 4/5 [00:01<00:00,  2.05it/s]"
     ]
    },
    {
     "name": "stdout",
     "output_type": "stream",
     "text": [
      "Training LightGBM...\n"
     ]
    },
    {
     "name": "stderr",
     "output_type": "stream",
     "text": [
      "100%|██████████| 5/5 [00:02<00:00,  2.13it/s]\n"
     ]
    }
   ],
   "source": [
    "from catboost import CatBoostClassifier\n",
    "from sklearn.tree import DecisionTreeClassifier\n",
    "from sklearn.ensemble import RandomForestClassifier\n",
    "from sklearn.linear_model import LogisticRegression\n",
    "from sklearn.dummy import DummyClassifier\n",
    "import lightgbm as lgb\n",
    "from warnings import filterwarnings\n",
    "filterwarnings('ignore')\n",
    "\n",
    "RANDOM_STATE = 42\n",
    "\n",
    "models = {\n",
    "    \"Dummy Classifier\": Pipeline(steps=[('classifier', DummyClassifier(strategy='most_frequent'))]),\n",
    "    \"Logistic Regression\": Pipeline(steps=[('preprocessor', preprocessor), ('classifier', LogisticRegression(random_state=RANDOM_STATE, class_weight='balanced'))]),\n",
    "    \"Decision Tree\": Pipeline(steps=[('preprocessor', preprocessor), ('classifier', DecisionTreeClassifier(random_state=RANDOM_STATE, class_weight='balanced'))]),\n",
    "    \"Random Forest\": Pipeline(steps=[('preprocessor', preprocessor), ('classifier', RandomForestClassifier(random_state=RANDOM_STATE, class_weight='balanced'))]),\n",
    "    \"LightGBM\": Pipeline(steps=[('preprocessor', preprocessor), ('classifier', lgb.LGBMClassifier(random_state=RANDOM_STATE, verbose=-1, verbose_eval=False, class_weight='balanced',n_jobs=1))]),\n",
    "}\n",
    "\n",
    "all_results = {}\n",
    "\n",
    "for model_name, model in tqdm(models.items()):\n",
    "    print(f\"Training {model_name}...\")\n",
    "    avg_results = train_and_evaluate_model(\n",
    "        X.values, y.values, model=model, \n",
    "        numerical_cols=numerical_cols, \n",
    "        categorical_cols=categorical_cols,\n",
    "    )\n",
    "    all_results[model_name] = avg_results\n"
   ]
  },
  {
   "cell_type": "code",
   "execution_count": 55,
   "metadata": {},
   "outputs": [
    {
     "name": "stdout",
     "output_type": "stream",
     "text": [
      "\n",
      "Summary of Results:\n"
     ]
    },
    {
     "data": {
      "text/html": [
       "<div>\n",
       "<style scoped>\n",
       "    .dataframe tbody tr th:only-of-type {\n",
       "        vertical-align: middle;\n",
       "    }\n",
       "\n",
       "    .dataframe tbody tr th {\n",
       "        vertical-align: top;\n",
       "    }\n",
       "\n",
       "    .dataframe thead th {\n",
       "        text-align: right;\n",
       "    }\n",
       "</style>\n",
       "<table border=\"1\" class=\"dataframe\">\n",
       "  <thead>\n",
       "    <tr style=\"text-align: right;\">\n",
       "      <th></th>\n",
       "      <th>accuracy_score</th>\n",
       "      <th>precision_score</th>\n",
       "      <th>recall_score</th>\n",
       "      <th>f1_score</th>\n",
       "    </tr>\n",
       "  </thead>\n",
       "  <tbody>\n",
       "    <tr>\n",
       "      <th>LightGBM</th>\n",
       "      <td>0.953441</td>\n",
       "      <td>0.954137</td>\n",
       "      <td>0.953441</td>\n",
       "      <td>0.953410</td>\n",
       "    </tr>\n",
       "    <tr>\n",
       "      <th>Random Forest</th>\n",
       "      <td>0.955305</td>\n",
       "      <td>0.953700</td>\n",
       "      <td>0.955305</td>\n",
       "      <td>0.953248</td>\n",
       "    </tr>\n",
       "    <tr>\n",
       "      <th>Decision Tree</th>\n",
       "      <td>0.944134</td>\n",
       "      <td>0.944737</td>\n",
       "      <td>0.944134</td>\n",
       "      <td>0.943635</td>\n",
       "    </tr>\n",
       "    <tr>\n",
       "      <th>Dummy Classifier</th>\n",
       "      <td>0.864982</td>\n",
       "      <td>0.748620</td>\n",
       "      <td>0.864982</td>\n",
       "      <td>0.802490</td>\n",
       "    </tr>\n",
       "    <tr>\n",
       "      <th>Logistic Regression</th>\n",
       "      <td>0.632263</td>\n",
       "      <td>0.850404</td>\n",
       "      <td>0.632263</td>\n",
       "      <td>0.701240</td>\n",
       "    </tr>\n",
       "  </tbody>\n",
       "</table>\n",
       "</div>"
      ],
      "text/plain": [
       "                     accuracy_score  precision_score  recall_score  f1_score\n",
       "LightGBM                   0.953441         0.954137      0.953441  0.953410\n",
       "Random Forest              0.955305         0.953700      0.955305  0.953248\n",
       "Decision Tree              0.944134         0.944737      0.944134  0.943635\n",
       "Dummy Classifier           0.864982         0.748620      0.864982  0.802490\n",
       "Logistic Regression        0.632263         0.850404      0.632263  0.701240"
      ]
     },
     "execution_count": 55,
     "metadata": {},
     "output_type": "execute_result"
    }
   ],
   "source": [
    "\n",
    "results_df = pd.DataFrame(all_results).T\n",
    "print(\"\\nSummary of Results:\")\n",
    "results_df.sort_values(by='f1_score', ascending=False).head(20)\n"
   ]
  },
  {
   "cell_type": "markdown",
   "metadata": {},
   "source": [
    "## 3 - Get feature importance for CatBoost Model (best model)"
   ]
  },
  {
   "cell_type": "code",
   "execution_count": 78,
   "metadata": {},
   "outputs": [
    {
     "data": {
      "text/plain": [
       "<catboost.core.CatBoostClassifier at 0x17990599610>"
      ]
     },
     "execution_count": 78,
     "metadata": {},
     "output_type": "execute_result"
    }
   ],
   "source": [
    "from sklearn.model_selection import train_test_split\n",
    "\n",
    "catboost_model = CatBoostClassifier(random_state=RANDOM_STATE, verbose=False)\n",
    "X_train, X_test, y_train, y_test = train_test_split(X, y, test_size=0.2, random_state=RANDOM_STATE)\n",
    "catboost_model.fit(X_train, y_train, cat_features=list(categorical_cols))"
   ]
  },
  {
   "cell_type": "code",
   "execution_count": 79,
   "metadata": {},
   "outputs": [
    {
     "data": {
      "image/png": "[encoded data removed]",
      "text/plain": [
       "<Figure size 800x600 with 2 Axes>"
      ]
     },
     "metadata": {},
     "output_type": "display_data"
    }
   ],
   "source": [
    "from matplotlib import pyplot as plt\n",
    "from sklearn.metrics import confusion_matrix\n",
    "import seaborn as sns\n",
    "\n",
    "# Class labels\n",
    "class_names = [\"Soft gel\", \"Firm gel\", \"Rigid gel\"]\n",
    "\n",
    "# Compute confusion matrix\n",
    "cm = confusion_matrix(y_test, catboost_model.predict(X_test))  # Raw counts\n",
    "cm_normalized = confusion_matrix(y_test, catboost_model.predict(X_test), normalize='true')  # Normalize by row to get percentages\n",
    "\n",
    "# Convert to percentage and format as string\n",
    "cm_percentage = cm_normalized * 100\n",
    "cm_labels = np.array([f\"{count}\\n({value:.1f}%)\" for count, value in zip(cm.flatten(), cm_percentage.flatten())]).reshape(cm.shape)\n",
    "\n",
    "# Plot using seaborn\n",
    "plt.figure(figsize=(8, 6))\n",
    "sns.heatmap(cm_percentage, annot=cm_labels, fmt='', cmap=\"Blues\", xticklabels=class_names, yticklabels=class_names)\n",
    "\n",
    "# Add title and labels\n",
    "plt.title(\"Multiclass Confusion Matrix\")\n",
    "plt.xlabel(\"Predicted Label\")\n",
    "plt.ylabel(\"True Label\")\n",
    "plt.tight_layout()\n",
    "plt.show()"
   ]
  },
  {
   "cell_type": "code",
   "execution_count": 80,
   "metadata": {},
   "outputs": [
    {
     "name": "stdout",
     "output_type": "stream",
     "text": [
      "0.905123109286144\n"
     ]
    }
   ],
   "source": [
    "catboost_ypred = catboost_model.predict(X_test)\n",
    "print(f1_score(y_test, catboost_ypred, average='weighted'))\n"
   ]
  },
  {
   "cell_type": "code",
   "execution_count": 81,
   "metadata": {},
   "outputs": [
    {
     "name": "stdout",
     "output_type": "stream",
     "text": [
      "0.9162790697674419\n"
     ]
    }
   ],
   "source": [
    "catboost_ypred = catboost_model.predict(X_test)\n",
    "print(accuracy_score(y_test, catboost_ypred))"
   ]
  },
  {
   "cell_type": "code",
   "execution_count": 82,
   "metadata": {},
   "outputs": [
    {
     "data": {
      "image/png": "[encoded data removed]",
      "text/plain": [
       "<Figure size 1200x600 with 1 Axes>"
      ]
     },
     "metadata": {},
     "output_type": "display_data"
    }
   ],
   "source": [
    "from matplotlib import pyplot as plt\n",
    "\n",
    "feature_importance = catboost_model.feature_importances_\n",
    "sorted_idx = np.argsort(feature_importance)\n",
    "fig = plt.figure(figsize=(12, 6))\n",
    "plt.barh(range(len(sorted_idx)), feature_importance[sorted_idx], align='center')\n",
    "plt.yticks(range(len(sorted_idx)), np.array(X_test.columns)[sorted_idx])\n",
    "plt.title('Feature Importance')\n",
    "plt.show()"
   ]
  },
  {
   "cell_type": "code",
   "execution_count": 83,
   "metadata": {},
   "outputs": [
    {
     "data": {
      "image/png": "[encoded data removed]",
      "text/plain": [
       "<Figure size 1200x600 with 1 Axes>"
      ]
     },
     "metadata": {},
     "output_type": "display_data"
    }
   ],
   "source": [
    "from sklearn.inspection import permutation_importance\n",
    "\n",
    "perm_importance = permutation_importance(catboost_model, X_test, y_test, n_repeats=10, random_state=1066)\n",
    "sorted_idx = perm_importance.importances_mean.argsort()\n",
    "fig = plt.figure(figsize=(12, 6))\n",
    "plt.barh(range(len(sorted_idx)), perm_importance.importances_mean[sorted_idx], align='center')\n",
    "plt.yticks(range(len(sorted_idx)), np.array(X_test.columns)[sorted_idx])\n",
    "plt.title('Permutation Importance')\n",
    "plt.show()"
   ]
  },
  {
   "cell_type": "markdown",
   "metadata": {},
   "source": [
    "**VOTING CLASSIFIER FOR OUR THREE BEST MODELS**"
   ]
  },
  {
   "cell_type": "code",
   "execution_count": 88,
   "metadata": {},
   "outputs": [],
   "source": [
    "from sklearn.model_selection import GridSearchCV\n",
    "from sklearn.ensemble import VotingClassifier"
   ]
  },
  {
   "cell_type": "code",
   "execution_count": 89,
   "metadata": {},
   "outputs": [
    {
     "name": "stdout",
     "output_type": "stream",
     "text": [
      "Fitting 3 folds for each of 96 candidates, totalling 288 fits\n",
      "Meilleurs paramètres : {'ct__iterations': 100, 'ct__learning_rate': 0.01, 'lgb__learning_rate': 0.01, 'lgb__num_leaves': 31, 'rf__max_depth': None, 'rf__n_estimators': 100}\n",
      "Meilleure précision : nan\n"
     ]
    }
   ],
   "source": [
    "# Données d'exemple\n",
    "# Supposons que X et y soient vos features et labels respectifs\n",
    "# Encodage des variables catégoriques\n",
    "X_clean = pd.get_dummies(X, drop_first=True)\n",
    "\n",
    "# Séparation des données en ensemble d'entraînement et de test\n",
    "X_train, X_test, y_train, y_test = train_test_split(X_clean, y, test_size=0.2, random_state=42)\n",
    "\n",
    "# Définition des modèles de base\n",
    "random_forest = RandomForestClassifier(random_state=42)\n",
    "catboost = CatBoostClassifier(random_state=42, verbose=0)\n",
    "light_gbm = LGBMClassifier(random_state=42)\n",
    "\n",
    "# Définition du VotingClassifier\n",
    "voting_classifier = VotingClassifier(estimators=[\n",
    "    ('rf', random_forest),  \n",
    "    ('ct', catboost),\n",
    "    ('lgb', light_gbm)\n",
    "], voting='hard')\n",
    "\n",
    "# Définir un espace de recherche pour GridSearchCV\n",
    "param_grid = {\n",
    "    # Hyperparamètres pour RandomForest\n",
    "    'rf__n_estimators': [100, 200],\n",
    "    'rf__max_depth': [None, 10, 20],\n",
    "    \n",
    "    # Hyperparamètres pour CatBoost\n",
    "    'ct__iterations': [100, 200],\n",
    "    'ct__learning_rate': [0.01, 0.1],\n",
    "    \n",
    "    # Hyperparamètres pour LGBM\n",
    "    'lgb__num_leaves': [31, 50],\n",
    "    'lgb__learning_rate': [0.01, 0.1],\n",
    "}\n",
    "\n",
    "# GridSearchCV\n",
    "grid_search = GridSearchCV(estimator=voting_classifier, param_grid=param_grid, \n",
    "                           scoring='accuracy', cv=3, verbose=1, n_jobs=-1)\n",
    "\n",
    "# Entraînement\n",
    "grid_search.fit(X_train, y_train)\n",
    "\n",
    "# Résultats\n",
    "print(\"Meilleurs paramètres :\", grid_search.best_params_)\n",
    "print(\"Meilleure précision :\", grid_search.best_score_)\n",
    "\n"
   ]
  },
  {
   "cell_type": "code",
   "execution_count": 90,
   "metadata": {},
   "outputs": [
    {
     "ename": "ValueError",
     "evalue": "setting an array element with a sequence. The requested array has an inhomogeneous shape after 2 dimensions. The detected shape was (3, 215) + inhomogeneous part.",
     "output_type": "error",
     "traceback": [
      "\u001b[1;31m---------------------------------------------------------------------------\u001b[0m",
      "\u001b[1;31mValueError\u001b[0m                                Traceback (most recent call last)",
      "Cell \u001b[1;32mIn[90], line 3\u001b[0m\n\u001b[0;32m      1\u001b[0m \u001b[38;5;66;03m# Prédiction sur l'ensemble de test\u001b[39;00m\n\u001b[0;32m      2\u001b[0m best_voting_classifier \u001b[38;5;241m=\u001b[39m grid_search\u001b[38;5;241m.\u001b[39mbest_estimator_\n\u001b[1;32m----> 3\u001b[0m y_pred \u001b[38;5;241m=\u001b[39m best_voting_classifier\u001b[38;5;241m.\u001b[39mpredict(X_test)\n\u001b[0;32m      4\u001b[0m \u001b[38;5;28mprint\u001b[39m(\u001b[38;5;124m\"\u001b[39m\u001b[38;5;124mPrécision sur l\u001b[39m\u001b[38;5;124m'\u001b[39m\u001b[38;5;124mensemble de test :\u001b[39m\u001b[38;5;124m\"\u001b[39m, accuracy_score(y_test, y_pred))\n",
      "File \u001b[1;32mc:\\Users\\harri\\anaconda3\\envs\\notebook\\Lib\\site-packages\\sklearn\\ensemble\\_voting.py:443\u001b[0m, in \u001b[0;36mVotingClassifier.predict\u001b[1;34m(self, X)\u001b[0m\n\u001b[0;32m    440\u001b[0m     maj \u001b[38;5;241m=\u001b[39m np\u001b[38;5;241m.\u001b[39margmax(\u001b[38;5;28mself\u001b[39m\u001b[38;5;241m.\u001b[39mpredict_proba(X), axis\u001b[38;5;241m=\u001b[39m\u001b[38;5;241m1\u001b[39m)\n\u001b[0;32m    442\u001b[0m \u001b[38;5;28;01melse\u001b[39;00m:  \u001b[38;5;66;03m# 'hard' voting\u001b[39;00m\n\u001b[1;32m--> 443\u001b[0m     predictions \u001b[38;5;241m=\u001b[39m \u001b[38;5;28mself\u001b[39m\u001b[38;5;241m.\u001b[39m_predict(X)\n\u001b[0;32m    444\u001b[0m     maj \u001b[38;5;241m=\u001b[39m np\u001b[38;5;241m.\u001b[39mapply_along_axis(\n\u001b[0;32m    445\u001b[0m         \u001b[38;5;28;01mlambda\u001b[39;00m x: np\u001b[38;5;241m.\u001b[39margmax(np\u001b[38;5;241m.\u001b[39mbincount(x, weights\u001b[38;5;241m=\u001b[39m\u001b[38;5;28mself\u001b[39m\u001b[38;5;241m.\u001b[39m_weights_not_none)),\n\u001b[0;32m    446\u001b[0m         axis\u001b[38;5;241m=\u001b[39m\u001b[38;5;241m1\u001b[39m,\n\u001b[0;32m    447\u001b[0m         arr\u001b[38;5;241m=\u001b[39mpredictions,\n\u001b[0;32m    448\u001b[0m     )\n\u001b[0;32m    450\u001b[0m maj \u001b[38;5;241m=\u001b[39m \u001b[38;5;28mself\u001b[39m\u001b[38;5;241m.\u001b[39mle_\u001b[38;5;241m.\u001b[39minverse_transform(maj)\n",
      "File \u001b[1;32mc:\\Users\\harri\\anaconda3\\envs\\notebook\\Lib\\site-packages\\sklearn\\ensemble\\_voting.py:80\u001b[0m, in \u001b[0;36m_BaseVoting._predict\u001b[1;34m(self, X)\u001b[0m\n\u001b[0;32m     78\u001b[0m \u001b[38;5;28;01mdef\u001b[39;00m \u001b[38;5;21m_predict\u001b[39m(\u001b[38;5;28mself\u001b[39m, X):\n\u001b[0;32m     79\u001b[0m \u001b[38;5;250m    \u001b[39m\u001b[38;5;124;03m\"\"\"Collect results from clf.predict calls.\"\"\"\u001b[39;00m\n\u001b[1;32m---> 80\u001b[0m     \u001b[38;5;28;01mreturn\u001b[39;00m np\u001b[38;5;241m.\u001b[39masarray([est\u001b[38;5;241m.\u001b[39mpredict(X) \u001b[38;5;28;01mfor\u001b[39;00m est \u001b[38;5;129;01min\u001b[39;00m \u001b[38;5;28mself\u001b[39m\u001b[38;5;241m.\u001b[39mestimators_])\u001b[38;5;241m.\u001b[39mT\n",
      "\u001b[1;31mValueError\u001b[0m: setting an array element with a sequence. The requested array has an inhomogeneous shape after 2 dimensions. The detected shape was (3, 215) + inhomogeneous part."
     ]
    }
   ],
   "source": [
    "# Prédiction sur l'ensemble de test\n",
    "best_voting_classifier = grid_search.best_estimator_\n",
    "y_pred = best_voting_classifier.predict(X_test)\n",
    "print(\"Précision sur l'ensemble de test :\", accuracy_score(y_test, y_pred))"
   ]
  },
  {
   "cell_type": "code",
   "execution_count": 74,
   "metadata": {},
   "outputs": [
    {
     "data": {
      "image/png": "[encoded data removed]",
      "text/plain": [
       "<Figure size 800x600 with 2 Axes>"
      ]
     },
     "metadata": {},
     "output_type": "display_data"
    }
   ],
   "source": [
    "# Class labels\n",
    "class_names = [\"Soft gel\", \"Firm gel\", \"Rigid gel\"]\n",
    "\n",
    "# Compute confusion matrix\n",
    "cm = confusion_matrix(y_test, y_pred)\n",
    "cm_normalized = cm.astype('float') / cm.sum(axis=1)[:, np.newaxis]  # Normalize by row to get percentages\n",
    "\n",
    "# Convert to percentage and format as string\n",
    "cm_percentage = cm_normalized * 100\n",
    "cm_labels = np.array([f\"{count}\\n({value:.1f}%)\" for count, value in zip(cm.flatten(), cm_percentage.flatten())]).reshape(cm.shape)\n",
    "\n",
    "# Plot using seaborn\n",
    "plt.figure(figsize=(8, 6))\n",
    "sns.heatmap(cm_percentage, annot=cm_labels, fmt='', cmap=\"Blues\", xticklabels=class_names, yticklabels=class_names)\n",
    "\n",
    "# Add title and labels\n",
    "plt.title(\"Multiclass Confusion Matrix\")\n",
    "plt.xlabel(\"Predicted Label\")\n",
    "plt.ylabel(\"True Label\")\n",
    "plt.tight_layout()\n",
    "plt.show()\n"
   ]
  }
 ],
 "metadata": {
  "kernelspec": {
   "display_name": "notebook",
   "language": "python",
   "name": "python3"
  },
  "language_info": {
   "codemirror_mode": {
    "name": "ipython",
    "version": 3
   },
   "file_extension": ".py",
   "mimetype": "text/x-python",
   "name": "python",
   "nbconvert_exporter": "python",
   "pygments_lexer": "ipython3",
   "version": "3.11.10"
  }
 },
 "nbformat": 4,
 "nbformat_minor": 4
}
