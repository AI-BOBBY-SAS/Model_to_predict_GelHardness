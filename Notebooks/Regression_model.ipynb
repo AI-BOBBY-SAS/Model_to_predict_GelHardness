{
 "cells": [
  {
   "cell_type": "code",
   "execution_count": 1,
   "metadata": {},
   "outputs": [
    {
     "name": "stdout",
     "output_type": "stream",
     "text": [
      "{'Alpha-lactalbumin': 10501, 'Beta-lactoglobulin': 10107, 'Casein': 10401, 'Chia Protein': 11804, 'Collagen': 30303, 'Egg Albumin': 30107, 'Flaxseed Protein': 10305, 'Gelatin': 30304, 'Hemp Protein': 30401, 'Lentil Protein': 12002, 'Lupin Protein': 30404, 'Myofibrillar Protein': 30302, 'Pea Protein': 30105, 'Potato Protein': 30402, 'Quinoa Protein': 12001, 'Rice Protein': 11803, 'Soy Protein Isolate': 11101, 'Wheat Gluten': 30108, 'Whey Protein Isolate': 10301, 'Zein Protein': 30403}\n"
     ]
    }
   ],
   "source": [
    "from pprint import pprint\n",
    "\n",
    "protein_codes = dict(sorted({\n",
    "    \"Whey Protein Isolate\": 10301,\n",
    "    \"Beta-lactoglobulin\": 10107,\n",
    "    \"Alpha-lactalbumin\": 10501,\n",
    "    \"Casein\": 10401,\n",
    "    \"Soy Protein Isolate\": 11101,\n",
    "    \"Pea Protein\": 30105,\n",
    "    \"Egg Albumin\": 30107,\n",
    "    \"Wheat Gluten\": 30108,\n",
    "    \"Myofibrillar Protein\": 30302,\n",
    "    \"Collagen\": 30303,\n",
    "    \"Rice Protein\": 11803,\n",
    "    \"Chia Protein\": 11804,\n",
    "    \"Quinoa Protein\": 12001,\n",
    "    \"Lentil Protein\": 12002,\n",
    "    \"Gelatin\": 30304,\n",
    "    \"Hemp Protein\": 30401,\n",
    "    \"Potato Protein\": 30402,\n",
    "    \"Zein Protein\": 30403,\n",
    "    \"Lupin Protein\": 30404,\n",
    "    \"Flaxseed Protein\": 10305\n",
    "}.items()))\n",
    "\n",
    "print(protein_codes)\n"
   ]
  }
 ],
 "metadata": {
  "kernelspec": {
   "display_name": "notebook",
   "language": "python",
   "name": "python3"
  },
  "language_info": {
   "codemirror_mode": {
    "name": "ipython",
    "version": 3
   },
   "file_extension": ".py",
   "mimetype": "text/x-python",
   "name": "python",
   "nbconvert_exporter": "python",
   "pygments_lexer": "ipython3",
   "version": "3.11.10"
  }
 },
 "nbformat": 4,
 "nbformat_minor": 2
}
